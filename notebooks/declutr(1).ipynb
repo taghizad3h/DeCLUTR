{
 "cells": [
  {
   "cell_type": "code",
   "execution_count": 12,
   "metadata": {
    "id": "anmHo0NCW70j"
   },
   "outputs": [
    {
     "name": "stdout",
     "output_type": "stream",
     "text": [
      "Collecting git+https://github.com/taghizad3h/DeCLUTR.git\n",
      "  Cloning https://github.com/taghizad3h/DeCLUTR.git to /tmp/pip-req-build-z6l2liz_\n",
      "  Running command git clone -q https://github.com/taghizad3h/DeCLUTR.git /tmp/pip-req-build-z6l2liz_\n",
      "  Resolved https://github.com/taghizad3h/DeCLUTR.git to commit 200e0739d6bf63baa333f3e5b1e8aefc68a7decd\n",
      "  Installing build dependencies ... \u001b[?25ldone\n",
      "\u001b[?25h  Getting requirements to build wheel ... \u001b[?25ldone\n",
      "\u001b[?25h    Preparing wheel metadata ... \u001b[?25ldone\n",
      "\u001b[?25hRequirement already satisfied: typer in /opt/conda/lib/python3.8/site-packages (from declutr==0.1.0rc1) (0.3.2)\n",
      "Requirement already satisfied: pytorch-metric-learning in /opt/conda/lib/python3.8/site-packages (from declutr==0.1.0rc1) (0.9.99)\n",
      "Requirement already satisfied: allennlp in /opt/conda/lib/python3.8/site-packages (from declutr==0.1.0rc1) (2.6.0)\n",
      "Requirement already satisfied: validators in /opt/conda/lib/python3.8/site-packages (from declutr==0.1.0rc1) (0.18.2)\n",
      "Requirement already satisfied: pytest in /opt/conda/lib/python3.8/site-packages (from allennlp->declutr==0.1.0rc1) (6.2.4)\n",
      "Requirement already satisfied: overrides==3.1.0 in /opt/conda/lib/python3.8/site-packages (from allennlp->declutr==0.1.0rc1) (3.1.0)\n",
      "Requirement already satisfied: checklist==0.0.11 in /opt/conda/lib/python3.8/site-packages (from allennlp->declutr==0.1.0rc1) (0.0.11)\n",
      "Requirement already satisfied: numpy in /opt/conda/lib/python3.8/site-packages (from allennlp->declutr==0.1.0rc1) (1.19.5)\n",
      "Requirement already satisfied: requests>=2.18 in /opt/conda/lib/python3.8/site-packages (from allennlp->declutr==0.1.0rc1) (2.26.0)\n",
      "Requirement already satisfied: filelock<3.1,>=3.0 in /opt/conda/lib/python3.8/site-packages (from allennlp->declutr==0.1.0rc1) (3.0.12)\n",
      "Requirement already satisfied: huggingface-hub>=0.0.8 in /opt/conda/lib/python3.8/site-packages (from allennlp->declutr==0.1.0rc1) (0.0.12)\n",
      "Requirement already satisfied: nltk in /opt/conda/lib/python3.8/site-packages (from allennlp->declutr==0.1.0rc1) (3.6.2)\n",
      "Requirement already satisfied: tensorboardX>=1.2 in /opt/conda/lib/python3.8/site-packages (from allennlp->declutr==0.1.0rc1) (2.4)\n",
      "Requirement already satisfied: spacy<3.1,>=2.1.0 in /opt/conda/lib/python3.8/site-packages (from allennlp->declutr==0.1.0rc1) (3.0.7)\n",
      "Requirement already satisfied: transformers<4.9,>=4.1 in /opt/conda/lib/python3.8/site-packages (from allennlp->declutr==0.1.0rc1) (4.8.2)\n",
      "Requirement already satisfied: scikit-learn in /opt/conda/lib/python3.8/site-packages (from allennlp->declutr==0.1.0rc1) (0.24.2)\n",
      "Requirement already satisfied: wandb<0.12.0,>=0.10.0 in /opt/conda/lib/python3.8/site-packages (from allennlp->declutr==0.1.0rc1) (0.11.2)\n",
      "Requirement already satisfied: sentencepiece in /opt/conda/lib/python3.8/site-packages (from allennlp->declutr==0.1.0rc1) (0.1.96)\n",
      "Requirement already satisfied: scipy in /opt/conda/lib/python3.8/site-packages (from allennlp->declutr==0.1.0rc1) (1.6.3)\n",
      "Requirement already satisfied: more-itertools in /opt/conda/lib/python3.8/site-packages (from allennlp->declutr==0.1.0rc1) (8.8.0)\n",
      "Requirement already satisfied: google-cloud-storage<1.42.0,>=1.38.0 in /opt/conda/lib/python3.8/site-packages (from allennlp->declutr==0.1.0rc1) (1.41.1)\n",
      "Requirement already satisfied: torchvision<0.11.0,>=0.8.1 in /opt/conda/lib/python3.8/site-packages (from allennlp->declutr==0.1.0rc1) (0.10.0+cu111)\n",
      "Requirement already satisfied: termcolor==1.1.0 in /opt/conda/lib/python3.8/site-packages (from allennlp->declutr==0.1.0rc1) (1.1.0)\n",
      "Requirement already satisfied: jsonnet>=0.10.0 in /opt/conda/lib/python3.8/site-packages (from allennlp->declutr==0.1.0rc1) (0.17.0)\n",
      "Requirement already satisfied: boto3<2.0,>=1.14 in /opt/conda/lib/python3.8/site-packages (from allennlp->declutr==0.1.0rc1) (1.18.27)\n",
      "Requirement already satisfied: lmdb in /opt/conda/lib/python3.8/site-packages (from allennlp->declutr==0.1.0rc1) (1.2.1)\n",
      "Requirement already satisfied: tqdm>=4.19 in /opt/conda/lib/python3.8/site-packages (from allennlp->declutr==0.1.0rc1) (4.62.1)\n",
      "Requirement already satisfied: torch<1.10.0,>=1.6.0 in /opt/conda/lib/python3.8/site-packages (from allennlp->declutr==0.1.0rc1) (1.9.0+cu111)\n",
      "Requirement already satisfied: h5py in /opt/conda/lib/python3.8/site-packages (from allennlp->declutr==0.1.0rc1) (2.10.0)\n",
      "Requirement already satisfied: munch>=2.5 in /opt/conda/lib/python3.8/site-packages (from checklist==0.0.11->allennlp->declutr==0.1.0rc1) (2.5.0)\n",
      "Requirement already satisfied: ipywidgets>=7.5 in /opt/conda/lib/python3.8/site-packages (from checklist==0.0.11->allennlp->declutr==0.1.0rc1) (7.6.3)\n",
      "Requirement already satisfied: patternfork-nosql in /opt/conda/lib/python3.8/site-packages (from checklist==0.0.11->allennlp->declutr==0.1.0rc1) (3.6)\n",
      "Requirement already satisfied: iso-639 in /opt/conda/lib/python3.8/site-packages (from checklist==0.0.11->allennlp->declutr==0.1.0rc1) (0.4.5)\n",
      "Requirement already satisfied: dill>=0.3.1 in /opt/conda/lib/python3.8/site-packages (from checklist==0.0.11->allennlp->declutr==0.1.0rc1) (0.3.4)\n",
      "Requirement already satisfied: jupyter>=1.0 in /opt/conda/lib/python3.8/site-packages (from checklist==0.0.11->allennlp->declutr==0.1.0rc1) (1.0.0)\n",
      "Requirement already satisfied: botocore<1.22.0,>=1.21.27 in /opt/conda/lib/python3.8/site-packages (from boto3<2.0,>=1.14->allennlp->declutr==0.1.0rc1) (1.21.27)\n",
      "Requirement already satisfied: s3transfer<0.6.0,>=0.5.0 in /opt/conda/lib/python3.8/site-packages (from boto3<2.0,>=1.14->allennlp->declutr==0.1.0rc1) (0.5.0)\n",
      "Requirement already satisfied: jmespath<1.0.0,>=0.7.1 in /opt/conda/lib/python3.8/site-packages (from boto3<2.0,>=1.14->allennlp->declutr==0.1.0rc1) (0.10.0)\n",
      "Requirement already satisfied: urllib3<1.27,>=1.25.4 in /opt/conda/lib/python3.8/site-packages (from botocore<1.22.0,>=1.21.27->boto3<2.0,>=1.14->allennlp->declutr==0.1.0rc1) (1.26.6)\n",
      "Requirement already satisfied: python-dateutil<3.0.0,>=2.1 in /opt/conda/lib/python3.8/site-packages (from botocore<1.22.0,>=1.21.27->boto3<2.0,>=1.14->allennlp->declutr==0.1.0rc1) (2.8.2)\n",
      "Requirement already satisfied: google-resumable-media<3.0dev,>=1.3.0 in /opt/conda/lib/python3.8/site-packages (from google-cloud-storage<1.42.0,>=1.38.0->allennlp->declutr==0.1.0rc1) (2.0.0)\n",
      "Requirement already satisfied: google-cloud-core<3.0dev,>=1.6.0 in /opt/conda/lib/python3.8/site-packages (from google-cloud-storage<1.42.0,>=1.38.0->allennlp->declutr==0.1.0rc1) (2.0.0)\n",
      "Requirement already satisfied: google-auth<3.0dev,>=1.24.0 in /opt/conda/lib/python3.8/site-packages (from google-cloud-storage<1.42.0,>=1.38.0->allennlp->declutr==0.1.0rc1) (1.35.0)\n",
      "Requirement already satisfied: six>=1.9.0 in /opt/conda/lib/python3.8/site-packages (from google-auth<3.0dev,>=1.24.0->google-cloud-storage<1.42.0,>=1.38.0->allennlp->declutr==0.1.0rc1) (1.15.0)\n",
      "Requirement already satisfied: rsa<5,>=3.1.4 in /opt/conda/lib/python3.8/site-packages (from google-auth<3.0dev,>=1.24.0->google-cloud-storage<1.42.0,>=1.38.0->allennlp->declutr==0.1.0rc1) (4.7.2)\n",
      "Requirement already satisfied: cachetools<5.0,>=2.0.0 in /opt/conda/lib/python3.8/site-packages (from google-auth<3.0dev,>=1.24.0->google-cloud-storage<1.42.0,>=1.38.0->allennlp->declutr==0.1.0rc1) (4.2.2)\n",
      "Requirement already satisfied: pyasn1-modules>=0.2.1 in /opt/conda/lib/python3.8/site-packages (from google-auth<3.0dev,>=1.24.0->google-cloud-storage<1.42.0,>=1.38.0->allennlp->declutr==0.1.0rc1) (0.2.8)\n",
      "Requirement already satisfied: setuptools>=40.3.0 in /opt/conda/lib/python3.8/site-packages (from google-auth<3.0dev,>=1.24.0->google-cloud-storage<1.42.0,>=1.38.0->allennlp->declutr==0.1.0rc1) (57.4.0)\n",
      "Requirement already satisfied: google-api-core<3.0.0dev,>=1.21.0 in /opt/conda/lib/python3.8/site-packages (from google-cloud-core<3.0dev,>=1.6.0->google-cloud-storage<1.42.0,>=1.38.0->allennlp->declutr==0.1.0rc1) (2.0.0)\n",
      "Requirement already satisfied: protobuf>=3.12.0 in /opt/conda/lib/python3.8/site-packages (from google-api-core<3.0.0dev,>=1.21.0->google-cloud-core<3.0dev,>=1.6.0->google-cloud-storage<1.42.0,>=1.38.0->allennlp->declutr==0.1.0rc1) (3.15.8)\n",
      "Requirement already satisfied: googleapis-common-protos<2.0dev,>=1.6.0 in /opt/conda/lib/python3.8/site-packages (from google-api-core<3.0.0dev,>=1.21.0->google-cloud-core<3.0dev,>=1.6.0->google-cloud-storage<1.42.0,>=1.38.0->allennlp->declutr==0.1.0rc1) (1.53.0)\n",
      "Requirement already satisfied: google-crc32c<2.0dev,>=1.0 in /opt/conda/lib/python3.8/site-packages (from google-resumable-media<3.0dev,>=1.3.0->google-cloud-storage<1.42.0,>=1.38.0->allennlp->declutr==0.1.0rc1) (1.1.2)\n",
      "Requirement already satisfied: cffi>=1.0.0 in /opt/conda/lib/python3.8/site-packages (from google-crc32c<2.0dev,>=1.0->google-resumable-media<3.0dev,>=1.3.0->google-cloud-storage<1.42.0,>=1.38.0->allennlp->declutr==0.1.0rc1) (1.14.6)\n",
      "Requirement already satisfied: pycparser in /opt/conda/lib/python3.8/site-packages (from cffi>=1.0.0->google-crc32c<2.0dev,>=1.0->google-resumable-media<3.0dev,>=1.3.0->google-cloud-storage<1.42.0,>=1.38.0->allennlp->declutr==0.1.0rc1) (2.20)\n",
      "Requirement already satisfied: typing-extensions in /opt/conda/lib/python3.8/site-packages (from huggingface-hub>=0.0.8->allennlp->declutr==0.1.0rc1) (3.7.4.3)\n",
      "Requirement already satisfied: packaging>=20.9 in /opt/conda/lib/python3.8/site-packages (from huggingface-hub>=0.0.8->allennlp->declutr==0.1.0rc1) (21.0)\n",
      "Requirement already satisfied: nbformat>=4.2.0 in /opt/conda/lib/python3.8/site-packages (from ipywidgets>=7.5->checklist==0.0.11->allennlp->declutr==0.1.0rc1) (5.1.3)\n",
      "Requirement already satisfied: widgetsnbextension~=3.5.0 in /opt/conda/lib/python3.8/site-packages (from ipywidgets>=7.5->checklist==0.0.11->allennlp->declutr==0.1.0rc1) (3.5.1)\n",
      "Requirement already satisfied: ipykernel>=4.5.1 in /opt/conda/lib/python3.8/site-packages (from ipywidgets>=7.5->checklist==0.0.11->allennlp->declutr==0.1.0rc1) (6.2.0)\n",
      "Requirement already satisfied: traitlets>=4.3.1 in /opt/conda/lib/python3.8/site-packages (from ipywidgets>=7.5->checklist==0.0.11->allennlp->declutr==0.1.0rc1) (5.0.5)\n",
      "Requirement already satisfied: ipython>=4.0.0 in /opt/conda/lib/python3.8/site-packages (from ipywidgets>=7.5->checklist==0.0.11->allennlp->declutr==0.1.0rc1) (7.26.0)\n",
      "Requirement already satisfied: jupyterlab-widgets>=1.0.0 in /opt/conda/lib/python3.8/site-packages (from ipywidgets>=7.5->checklist==0.0.11->allennlp->declutr==0.1.0rc1) (1.0.0)\n",
      "Requirement already satisfied: debugpy<2.0,>=1.0.0 in /opt/conda/lib/python3.8/site-packages (from ipykernel>=4.5.1->ipywidgets>=7.5->checklist==0.0.11->allennlp->declutr==0.1.0rc1) (1.4.1)\n",
      "Requirement already satisfied: jupyter-client<8.0 in /opt/conda/lib/python3.8/site-packages (from ipykernel>=4.5.1->ipywidgets>=7.5->checklist==0.0.11->allennlp->declutr==0.1.0rc1) (6.1.12)\n",
      "Requirement already satisfied: tornado<7.0,>=4.2 in /opt/conda/lib/python3.8/site-packages (from ipykernel>=4.5.1->ipywidgets>=7.5->checklist==0.0.11->allennlp->declutr==0.1.0rc1) (6.1)\n",
      "Requirement already satisfied: matplotlib-inline<0.2.0,>=0.1.0 in /opt/conda/lib/python3.8/site-packages (from ipykernel>=4.5.1->ipywidgets>=7.5->checklist==0.0.11->allennlp->declutr==0.1.0rc1) (0.1.2)\n",
      "Requirement already satisfied: backcall in /opt/conda/lib/python3.8/site-packages (from ipython>=4.0.0->ipywidgets>=7.5->checklist==0.0.11->allennlp->declutr==0.1.0rc1) (0.2.0)\n",
      "Requirement already satisfied: prompt-toolkit!=3.0.0,!=3.0.1,<3.1.0,>=2.0.0 in /opt/conda/lib/python3.8/site-packages (from ipython>=4.0.0->ipywidgets>=7.5->checklist==0.0.11->allennlp->declutr==0.1.0rc1) (3.0.19)\n",
      "Requirement already satisfied: pickleshare in /opt/conda/lib/python3.8/site-packages (from ipython>=4.0.0->ipywidgets>=7.5->checklist==0.0.11->allennlp->declutr==0.1.0rc1) (0.7.5)\n",
      "Requirement already satisfied: pexpect>4.3 in /opt/conda/lib/python3.8/site-packages (from ipython>=4.0.0->ipywidgets>=7.5->checklist==0.0.11->allennlp->declutr==0.1.0rc1) (4.8.0)\n",
      "Requirement already satisfied: decorator in /opt/conda/lib/python3.8/site-packages (from ipython>=4.0.0->ipywidgets>=7.5->checklist==0.0.11->allennlp->declutr==0.1.0rc1) (5.0.9)\n",
      "Requirement already satisfied: pygments in /opt/conda/lib/python3.8/site-packages (from ipython>=4.0.0->ipywidgets>=7.5->checklist==0.0.11->allennlp->declutr==0.1.0rc1) (2.10.0)\n",
      "Requirement already satisfied: jedi>=0.16 in /opt/conda/lib/python3.8/site-packages (from ipython>=4.0.0->ipywidgets>=7.5->checklist==0.0.11->allennlp->declutr==0.1.0rc1) (0.18.0)\n",
      "Requirement already satisfied: parso<0.9.0,>=0.8.0 in /opt/conda/lib/python3.8/site-packages (from jedi>=0.16->ipython>=4.0.0->ipywidgets>=7.5->checklist==0.0.11->allennlp->declutr==0.1.0rc1) (0.8.2)\n",
      "Requirement already satisfied: nbconvert in /opt/conda/lib/python3.8/site-packages (from jupyter>=1.0->checklist==0.0.11->allennlp->declutr==0.1.0rc1) (6.1.0)\n",
      "Requirement already satisfied: notebook in /opt/conda/lib/python3.8/site-packages (from jupyter>=1.0->checklist==0.0.11->allennlp->declutr==0.1.0rc1) (6.2.0)\n",
      "Requirement already satisfied: jupyter-console in /opt/conda/lib/python3.8/site-packages (from jupyter>=1.0->checklist==0.0.11->allennlp->declutr==0.1.0rc1) (6.4.0)\n",
      "Requirement already satisfied: qtconsole in /opt/conda/lib/python3.8/site-packages (from jupyter>=1.0->checklist==0.0.11->allennlp->declutr==0.1.0rc1) (5.1.1)\n",
      "Requirement already satisfied: jupyter-core>=4.6.0 in /opt/conda/lib/python3.8/site-packages (from jupyter-client<8.0->ipykernel>=4.5.1->ipywidgets>=7.5->checklist==0.0.11->allennlp->declutr==0.1.0rc1) (4.7.1)\n",
      "Requirement already satisfied: pyzmq>=13 in /opt/conda/lib/python3.8/site-packages (from jupyter-client<8.0->ipykernel>=4.5.1->ipywidgets>=7.5->checklist==0.0.11->allennlp->declutr==0.1.0rc1) (22.2.1)\n",
      "Requirement already satisfied: ipython-genutils in /opt/conda/lib/python3.8/site-packages (from nbformat>=4.2.0->ipywidgets>=7.5->checklist==0.0.11->allennlp->declutr==0.1.0rc1) (0.2.0)\n",
      "Requirement already satisfied: jsonschema!=2.5.0,>=2.4 in /opt/conda/lib/python3.8/site-packages (from nbformat>=4.2.0->ipywidgets>=7.5->checklist==0.0.11->allennlp->declutr==0.1.0rc1) (3.2.0)\n",
      "Requirement already satisfied: attrs>=17.4.0 in /opt/conda/lib/python3.8/site-packages (from jsonschema!=2.5.0,>=2.4->nbformat>=4.2.0->ipywidgets>=7.5->checklist==0.0.11->allennlp->declutr==0.1.0rc1) (21.2.0)\n",
      "Requirement already satisfied: pyrsistent>=0.14.0 in /opt/conda/lib/python3.8/site-packages (from jsonschema!=2.5.0,>=2.4->nbformat>=4.2.0->ipywidgets>=7.5->checklist==0.0.11->allennlp->declutr==0.1.0rc1) (0.17.3)\n",
      "Requirement already satisfied: pyparsing>=2.0.2 in /opt/conda/lib/python3.8/site-packages (from packaging>=20.9->huggingface-hub>=0.0.8->allennlp->declutr==0.1.0rc1) (2.4.7)\n",
      "Requirement already satisfied: ptyprocess>=0.5 in /opt/conda/lib/python3.8/site-packages (from pexpect>4.3->ipython>=4.0.0->ipywidgets>=7.5->checklist==0.0.11->allennlp->declutr==0.1.0rc1) (0.7.0)\n",
      "Requirement already satisfied: wcwidth in /opt/conda/lib/python3.8/site-packages (from prompt-toolkit!=3.0.0,!=3.0.1,<3.1.0,>=2.0.0->ipython>=4.0.0->ipywidgets>=7.5->checklist==0.0.11->allennlp->declutr==0.1.0rc1) (0.2.5)\n",
      "Requirement already satisfied: pyasn1<0.5.0,>=0.4.6 in /opt/conda/lib/python3.8/site-packages (from pyasn1-modules>=0.2.1->google-auth<3.0dev,>=1.24.0->google-cloud-storage<1.42.0,>=1.38.0->allennlp->declutr==0.1.0rc1) (0.4.8)\n",
      "Requirement already satisfied: certifi>=2017.4.17 in /opt/conda/lib/python3.8/site-packages (from requests>=2.18->allennlp->declutr==0.1.0rc1) (2021.5.30)\n",
      "Requirement already satisfied: charset-normalizer~=2.0.0 in /opt/conda/lib/python3.8/site-packages (from requests>=2.18->allennlp->declutr==0.1.0rc1) (2.0.0)\n",
      "Requirement already satisfied: idna<4,>=2.5 in /opt/conda/lib/python3.8/site-packages (from requests>=2.18->allennlp->declutr==0.1.0rc1) (3.1)\n",
      "Requirement already satisfied: spacy-legacy<3.1.0,>=3.0.5 in /opt/conda/lib/python3.8/site-packages (from spacy<3.1,>=2.1.0->allennlp->declutr==0.1.0rc1) (3.0.8)\n",
      "Requirement already satisfied: wasabi<1.1.0,>=0.8.1 in /opt/conda/lib/python3.8/site-packages (from spacy<3.1,>=2.1.0->allennlp->declutr==0.1.0rc1) (0.8.2)\n",
      "Requirement already satisfied: pydantic!=1.8,!=1.8.1,<1.9.0,>=1.7.4 in /opt/conda/lib/python3.8/site-packages (from spacy<3.1,>=2.1.0->allennlp->declutr==0.1.0rc1) (1.8.2)\n",
      "Requirement already satisfied: catalogue<2.1.0,>=2.0.4 in /opt/conda/lib/python3.8/site-packages (from spacy<3.1,>=2.1.0->allennlp->declutr==0.1.0rc1) (2.0.6)\n",
      "Requirement already satisfied: thinc<8.1.0,>=8.0.3 in /opt/conda/lib/python3.8/site-packages (from spacy<3.1,>=2.1.0->allennlp->declutr==0.1.0rc1) (8.0.8)\n",
      "Requirement already satisfied: cymem<2.1.0,>=2.0.2 in /opt/conda/lib/python3.8/site-packages (from spacy<3.1,>=2.1.0->allennlp->declutr==0.1.0rc1) (2.0.5)\n",
      "Requirement already satisfied: jinja2 in /opt/conda/lib/python3.8/site-packages (from spacy<3.1,>=2.1.0->allennlp->declutr==0.1.0rc1) (3.0.1)\n",
      "Requirement already satisfied: srsly<3.0.0,>=2.4.1 in /opt/conda/lib/python3.8/site-packages (from spacy<3.1,>=2.1.0->allennlp->declutr==0.1.0rc1) (2.4.1)\n",
      "Requirement already satisfied: pathy>=0.3.5 in /opt/conda/lib/python3.8/site-packages (from spacy<3.1,>=2.1.0->allennlp->declutr==0.1.0rc1) (0.6.0)\n",
      "Requirement already satisfied: murmurhash<1.1.0,>=0.28.0 in /opt/conda/lib/python3.8/site-packages (from spacy<3.1,>=2.1.0->allennlp->declutr==0.1.0rc1) (1.0.5)\n",
      "Requirement already satisfied: blis<0.8.0,>=0.4.0 in /opt/conda/lib/python3.8/site-packages (from spacy<3.1,>=2.1.0->allennlp->declutr==0.1.0rc1) (0.7.4)\n",
      "Requirement already satisfied: preshed<3.1.0,>=3.0.2 in /opt/conda/lib/python3.8/site-packages (from spacy<3.1,>=2.1.0->allennlp->declutr==0.1.0rc1) (3.0.5)\n",
      "Requirement already satisfied: smart-open<6.0.0,>=5.0.0 in /opt/conda/lib/python3.8/site-packages (from pathy>=0.3.5->spacy<3.1,>=2.1.0->allennlp->declutr==0.1.0rc1) (5.2.0)\n",
      "Requirement already satisfied: pillow>=5.3.0 in /opt/conda/lib/python3.8/site-packages (from torchvision<0.11.0,>=0.8.1->allennlp->declutr==0.1.0rc1) (8.3.1)\n",
      "Requirement already satisfied: sacremoses in /opt/conda/lib/python3.8/site-packages (from transformers<4.9,>=4.1->allennlp->declutr==0.1.0rc1) (0.0.45)\n",
      "Requirement already satisfied: tokenizers<0.11,>=0.10.1 in /opt/conda/lib/python3.8/site-packages (from transformers<4.9,>=4.1->allennlp->declutr==0.1.0rc1) (0.10.3)\n",
      "Requirement already satisfied: regex!=2019.12.17 in /opt/conda/lib/python3.8/site-packages (from transformers<4.9,>=4.1->allennlp->declutr==0.1.0rc1) (2021.8.21)\n",
      "Requirement already satisfied: pyyaml in /opt/conda/lib/python3.8/site-packages (from transformers<4.9,>=4.1->allennlp->declutr==0.1.0rc1) (5.4.1)\n",
      "Requirement already satisfied: click<7.2.0,>=7.1.1 in /opt/conda/lib/python3.8/site-packages (from typer->declutr==0.1.0rc1) (7.1.2)\n",
      "Requirement already satisfied: subprocess32>=3.5.3 in /opt/conda/lib/python3.8/site-packages (from wandb<0.12.0,>=0.10.0->allennlp->declutr==0.1.0rc1) (3.5.4)\n",
      "Requirement already satisfied: promise<3,>=2.0 in /opt/conda/lib/python3.8/site-packages (from wandb<0.12.0,>=0.10.0->allennlp->declutr==0.1.0rc1) (2.3)\n",
      "Requirement already satisfied: psutil>=5.0.0 in /opt/conda/lib/python3.8/site-packages (from wandb<0.12.0,>=0.10.0->allennlp->declutr==0.1.0rc1) (5.8.0)\n",
      "Requirement already satisfied: configparser>=3.8.1 in /opt/conda/lib/python3.8/site-packages (from wandb<0.12.0,>=0.10.0->allennlp->declutr==0.1.0rc1) (5.0.2)\n",
      "Requirement already satisfied: pathtools in /opt/conda/lib/python3.8/site-packages (from wandb<0.12.0,>=0.10.0->allennlp->declutr==0.1.0rc1) (0.1.2)\n",
      "Requirement already satisfied: shortuuid>=0.5.0 in /opt/conda/lib/python3.8/site-packages (from wandb<0.12.0,>=0.10.0->allennlp->declutr==0.1.0rc1) (1.0.1)\n",
      "Requirement already satisfied: docker-pycreds>=0.4.0 in /opt/conda/lib/python3.8/site-packages (from wandb<0.12.0,>=0.10.0->allennlp->declutr==0.1.0rc1) (0.4.0)\n",
      "Requirement already satisfied: sentry-sdk>=1.0.0 in /opt/conda/lib/python3.8/site-packages (from wandb<0.12.0,>=0.10.0->allennlp->declutr==0.1.0rc1) (1.3.1)\n",
      "Requirement already satisfied: GitPython>=1.0.0 in /opt/conda/lib/python3.8/site-packages (from wandb<0.12.0,>=0.10.0->allennlp->declutr==0.1.0rc1) (3.1.18)\n",
      "Requirement already satisfied: gitdb<5,>=4.0.1 in /opt/conda/lib/python3.8/site-packages (from GitPython>=1.0.0->wandb<0.12.0,>=0.10.0->allennlp->declutr==0.1.0rc1) (4.0.7)\n",
      "Requirement already satisfied: smmap<5,>=3.0.1 in /opt/conda/lib/python3.8/site-packages (from gitdb<5,>=4.0.1->GitPython>=1.0.0->wandb<0.12.0,>=0.10.0->allennlp->declutr==0.1.0rc1) (4.0.0)\n",
      "Requirement already satisfied: terminado>=0.8.3 in /opt/conda/lib/python3.8/site-packages (from notebook->jupyter>=1.0->checklist==0.0.11->allennlp->declutr==0.1.0rc1) (0.11.1)\n",
      "Requirement already satisfied: Send2Trash>=1.5.0 in /opt/conda/lib/python3.8/site-packages (from notebook->jupyter>=1.0->checklist==0.0.11->allennlp->declutr==0.1.0rc1) (1.8.0)\n",
      "Requirement already satisfied: prometheus-client in /opt/conda/lib/python3.8/site-packages (from notebook->jupyter>=1.0->checklist==0.0.11->allennlp->declutr==0.1.0rc1) (0.11.0)\n",
      "Requirement already satisfied: argon2-cffi in /opt/conda/lib/python3.8/site-packages (from notebook->jupyter>=1.0->checklist==0.0.11->allennlp->declutr==0.1.0rc1) (20.1.0)\n",
      "Requirement already satisfied: MarkupSafe>=2.0 in /opt/conda/lib/python3.8/site-packages (from jinja2->spacy<3.1,>=2.1.0->allennlp->declutr==0.1.0rc1) (2.0.1)\n",
      "Requirement already satisfied: testpath in /opt/conda/lib/python3.8/site-packages (from nbconvert->jupyter>=1.0->checklist==0.0.11->allennlp->declutr==0.1.0rc1) (0.5.0)\n",
      "Requirement already satisfied: nbclient<0.6.0,>=0.5.0 in /opt/conda/lib/python3.8/site-packages (from nbconvert->jupyter>=1.0->checklist==0.0.11->allennlp->declutr==0.1.0rc1) (0.5.4)\n",
      "Requirement already satisfied: jupyterlab-pygments in /opt/conda/lib/python3.8/site-packages (from nbconvert->jupyter>=1.0->checklist==0.0.11->allennlp->declutr==0.1.0rc1) (0.1.2)\n",
      "Requirement already satisfied: mistune<2,>=0.8.1 in /opt/conda/lib/python3.8/site-packages (from nbconvert->jupyter>=1.0->checklist==0.0.11->allennlp->declutr==0.1.0rc1) (0.8.4)\n",
      "Requirement already satisfied: bleach in /opt/conda/lib/python3.8/site-packages (from nbconvert->jupyter>=1.0->checklist==0.0.11->allennlp->declutr==0.1.0rc1) (4.0.0)\n",
      "Requirement already satisfied: defusedxml in /opt/conda/lib/python3.8/site-packages (from nbconvert->jupyter>=1.0->checklist==0.0.11->allennlp->declutr==0.1.0rc1) (0.7.1)\n",
      "Requirement already satisfied: pandocfilters>=1.4.1 in /opt/conda/lib/python3.8/site-packages (from nbconvert->jupyter>=1.0->checklist==0.0.11->allennlp->declutr==0.1.0rc1) (1.4.2)\n",
      "Requirement already satisfied: entrypoints>=0.2.2 in /opt/conda/lib/python3.8/site-packages (from nbconvert->jupyter>=1.0->checklist==0.0.11->allennlp->declutr==0.1.0rc1) (0.3)\n",
      "Requirement already satisfied: nest-asyncio in /opt/conda/lib/python3.8/site-packages (from nbclient<0.6.0,>=0.5.0->nbconvert->jupyter>=1.0->checklist==0.0.11->allennlp->declutr==0.1.0rc1) (1.5.1)\n",
      "Requirement already satisfied: webencodings in /opt/conda/lib/python3.8/site-packages (from bleach->nbconvert->jupyter>=1.0->checklist==0.0.11->allennlp->declutr==0.1.0rc1) (0.5.1)\n",
      "Requirement already satisfied: joblib in /opt/conda/lib/python3.8/site-packages (from nltk->allennlp->declutr==0.1.0rc1) (1.0.1)\n",
      "Requirement already satisfied: beautifulsoup4 in /opt/conda/lib/python3.8/site-packages (from patternfork-nosql->checklist==0.0.11->allennlp->declutr==0.1.0rc1) (4.9.3)\n",
      "Requirement already satisfied: lxml in /opt/conda/lib/python3.8/site-packages (from patternfork-nosql->checklist==0.0.11->allennlp->declutr==0.1.0rc1) (4.6.3)\n",
      "Requirement already satisfied: cherrypy in /opt/conda/lib/python3.8/site-packages (from patternfork-nosql->checklist==0.0.11->allennlp->declutr==0.1.0rc1) (18.6.1)\n",
      "Requirement already satisfied: pdfminer.six in /opt/conda/lib/python3.8/site-packages (from patternfork-nosql->checklist==0.0.11->allennlp->declutr==0.1.0rc1) (20201018)\n",
      "Requirement already satisfied: feedparser in /opt/conda/lib/python3.8/site-packages (from patternfork-nosql->checklist==0.0.11->allennlp->declutr==0.1.0rc1) (6.0.8)\n",
      "Requirement already satisfied: future in /opt/conda/lib/python3.8/site-packages (from patternfork-nosql->checklist==0.0.11->allennlp->declutr==0.1.0rc1) (0.18.2)\n",
      "Requirement already satisfied: backports.csv in /opt/conda/lib/python3.8/site-packages (from patternfork-nosql->checklist==0.0.11->allennlp->declutr==0.1.0rc1) (1.0.7)\n",
      "Requirement already satisfied: python-docx in /opt/conda/lib/python3.8/site-packages (from patternfork-nosql->checklist==0.0.11->allennlp->declutr==0.1.0rc1) (0.8.11)\n",
      "Requirement already satisfied: soupsieve>1.2 in /opt/conda/lib/python3.8/site-packages (from beautifulsoup4->patternfork-nosql->checklist==0.0.11->allennlp->declutr==0.1.0rc1) (2.0.1)\n",
      "Requirement already satisfied: portend>=2.1.1 in /opt/conda/lib/python3.8/site-packages (from cherrypy->patternfork-nosql->checklist==0.0.11->allennlp->declutr==0.1.0rc1) (2.7.1)\n",
      "Requirement already satisfied: cheroot>=8.2.1 in /opt/conda/lib/python3.8/site-packages (from cherrypy->patternfork-nosql->checklist==0.0.11->allennlp->declutr==0.1.0rc1) (8.5.2)\n",
      "Requirement already satisfied: jaraco.collections in /opt/conda/lib/python3.8/site-packages (from cherrypy->patternfork-nosql->checklist==0.0.11->allennlp->declutr==0.1.0rc1) (3.4.0)\n",
      "Requirement already satisfied: zc.lockfile in /opt/conda/lib/python3.8/site-packages (from cherrypy->patternfork-nosql->checklist==0.0.11->allennlp->declutr==0.1.0rc1) (2.0)\n",
      "Requirement already satisfied: jaraco.functools in /opt/conda/lib/python3.8/site-packages (from cheroot>=8.2.1->cherrypy->patternfork-nosql->checklist==0.0.11->allennlp->declutr==0.1.0rc1) (3.3.0)\n",
      "Requirement already satisfied: tempora>=1.8 in /opt/conda/lib/python3.8/site-packages (from portend>=2.1.1->cherrypy->patternfork-nosql->checklist==0.0.11->allennlp->declutr==0.1.0rc1) (4.1.1)\n",
      "Requirement already satisfied: pytz in /opt/conda/lib/python3.8/site-packages (from tempora>=1.8->portend>=2.1.1->cherrypy->patternfork-nosql->checklist==0.0.11->allennlp->declutr==0.1.0rc1) (2021.1)\n",
      "Requirement already satisfied: sgmllib3k in /opt/conda/lib/python3.8/site-packages (from feedparser->patternfork-nosql->checklist==0.0.11->allennlp->declutr==0.1.0rc1) (1.0.0)\n",
      "Requirement already satisfied: jaraco.text in /opt/conda/lib/python3.8/site-packages (from jaraco.collections->cherrypy->patternfork-nosql->checklist==0.0.11->allennlp->declutr==0.1.0rc1) (3.5.1)\n",
      "Requirement already satisfied: jaraco.classes in /opt/conda/lib/python3.8/site-packages (from jaraco.collections->cherrypy->patternfork-nosql->checklist==0.0.11->allennlp->declutr==0.1.0rc1) (3.2.1)\n",
      "Requirement already satisfied: sortedcontainers in /opt/conda/lib/python3.8/site-packages (from pdfminer.six->patternfork-nosql->checklist==0.0.11->allennlp->declutr==0.1.0rc1) (2.4.0)\n",
      "Requirement already satisfied: chardet in /opt/conda/lib/python3.8/site-packages (from pdfminer.six->patternfork-nosql->checklist==0.0.11->allennlp->declutr==0.1.0rc1) (4.0.0)\n",
      "Requirement already satisfied: cryptography in /opt/conda/lib/python3.8/site-packages (from pdfminer.six->patternfork-nosql->checklist==0.0.11->allennlp->declutr==0.1.0rc1) (3.4.7)\n",
      "Requirement already satisfied: py>=1.8.2 in /opt/conda/lib/python3.8/site-packages (from pytest->allennlp->declutr==0.1.0rc1) (1.10.0)\n",
      "Requirement already satisfied: iniconfig in /opt/conda/lib/python3.8/site-packages (from pytest->allennlp->declutr==0.1.0rc1) (1.1.1)\n",
      "Requirement already satisfied: toml in /opt/conda/lib/python3.8/site-packages (from pytest->allennlp->declutr==0.1.0rc1) (0.10.2)\n",
      "Requirement already satisfied: pluggy<1.0.0a1,>=0.12 in /opt/conda/lib/python3.8/site-packages (from pytest->allennlp->declutr==0.1.0rc1) (0.13.1)\n",
      "Requirement already satisfied: qtpy in /opt/conda/lib/python3.8/site-packages (from qtconsole->jupyter>=1.0->checklist==0.0.11->allennlp->declutr==0.1.0rc1) (1.10.0)\n",
      "Requirement already satisfied: threadpoolctl>=2.0.0 in /opt/conda/lib/python3.8/site-packages (from scikit-learn->allennlp->declutr==0.1.0rc1) (2.2.0)\n",
      "Building wheels for collected packages: declutr\n",
      "  Building wheel for declutr (PEP 517) ... \u001b[?25ldone\n",
      "\u001b[?25h  Created wheel for declutr: filename=declutr-0.1.0rc1-py3-none-any.whl size=41843 sha256=39a7f6039a8ea82c14c3ca5d93bd4a168926ad13be97deb94ace08bb109022c1\n",
      "  Stored in directory: /tmp/pip-ephem-wheel-cache-mqhixm0y/wheels/d7/cd/00/ad17ef4982f002307ff387de689d4eb9453687fe64daedf12b\n",
      "Successfully built declutr\n",
      "Installing collected packages: declutr\n",
      "Successfully installed declutr-0.1.0rc1\n"
     ]
    }
   ],
   "source": [
    "!pip install --upgrade git+https://github.com/taghizad3h/DeCLUTR.git"
   ]
  },
  {
   "cell_type": "code",
   "execution_count": null,
   "metadata": {
    "id": "ZFYzr3kgYV1p"
   },
   "outputs": [],
   "source": [
    "!pip install --upgrade transformers"
   ]
  },
  {
   "cell_type": "code",
   "execution_count": 6,
   "metadata": {
    "id": "jtlN5gIe3LQL"
   },
   "outputs": [],
   "source": [
    "# transformer_model = \"aubmindlab/bert-base-arabertv02\"\n",
    "transformer_model = 'arabert-v02'\n",
    "# transformer_model = \"HooshvareLab/distilbert-fa-zwnj-base\""
   ]
  },
  {
   "cell_type": "code",
   "execution_count": 18,
   "metadata": {
    "id": "WmkTn7X3FKTS"
   },
   "outputs": [],
   "source": [
    "declutr_small_config = f\"\"\"\n",
    "// This should be a registered name in the Transformers library (see https://huggingface.co/models) \n",
    "// OR a path on disk to a serialized transformer model.\n",
    "local transformer_model = \"{transformer_model}\";\n",
    "\n",
    "// This will be used to set the max/min # of tokens in the positive and negative examples.\n",
    "local max_length = 64;\n",
    "local min_length = 32;\n",
    "\n",
    "{{\n",
    "    \"vocabulary\": {{\n",
    "        \"type\": \"empty\"\n",
    "    }},\n",
    "    \"dataset_reader\": {{\n",
    "        \"type\": \"declutr\",\n",
    "        \"num_anchors\": 2,\n",
    "        \"num_positives\": 2,\n",
    "        \"max_span_len\": max_length,\n",
    "        \"min_span_len\": min_length,\n",
    "        \"manual_multiprocess_sharding\": true,\n",
    "        \"tokenizer\": {{\n",
    "            \"type\": \"pretrained_transformer\",\n",
    "            \"model_name\": transformer_model,\n",
    "            // Account for special tokens (e.g. CLS and SEP), otherwise a cryptic error is thrown.\n",
    "            \"max_length\": max_length - 2,\n",
    "        }},\n",
    "        \"token_indexers\": {{\n",
    "            \"tokens\": {{\n",
    "                \"type\": \"pretrained_transformer\",\n",
    "                \"model_name\": transformer_model,\n",
    "            }},\n",
    "        }},\n",
    "    }}, \n",
    "    \"train_data_path\": \"ar_books.txt\",\n",
    "    \"model\": {{\n",
    "        \"type\": \"declutr\",\n",
    "        \"text_field_embedder\": {{\n",
    "            \"type\": \"mlm\",\n",
    "            \"token_embedders\": {{\n",
    "                \"tokens\": {{\n",
    "                    \"type\": \"pretrained_transformer_mlm\",\n",
    "                    \"model_name\": transformer_model,\n",
    "                    \"masked_language_modeling\": true\n",
    "                }},\n",
    "            }},\n",
    "        }},\n",
    "        \"loss\": {{\n",
    "            \"type\": \"nt_xent\",\n",
    "            \"temperature\": 0.05,\n",
    "        }},\n",
    "    }},\n",
    "    \"data_loader\": {{\n",
    "        \"batch_size\": 16,\n",
    "        \"num_workers\": 8,\n",
    "        \"drop_last\": true,\n",
    "        \"max_instances_in_memory\": 16 * 100,\n",
    "        \"batches_per_epoch\": 1024,\n",
    "    }},\n",
    "    \"trainer\": {{\n",
    "        // Set use_amp to true to use automatic mixed-precision during training (if your GPU supports it)\n",
    "        \"use_amp\": true,\n",
    "        \"optimizer\": {{\n",
    "            \"type\": \"huggingface_adamw\",\n",
    "            \"lr\": 5e-5,\n",
    "            \"eps\": 1e-06,\n",
    "            \"correct_bias\": false,\n",
    "            \"weight_decay\": 0.0,\n",
    "            \"parameter_groups\": [\n",
    "                // Apply weight decay to pre-trained params, excluding LayerNorm params and biases\n",
    "                // See: https://github.com/huggingface/transformers/blob/2184f87003c18ad8a172ecab9a821626522cf8e7/examples/run_ner.py#L105\n",
    "                // Regex: https://regex101.com/r/ZUyDgR/3/tests\n",
    "                [[\"(?=.*transformer_model)(?=.*\\\\\\.+)(?!.*(LayerNorm|bias)).*$\"], {{\"weight_decay\": 0.1}}],\n",
    "            ],\n",
    "        }},\n",
    "        \"num_epochs\": 1,\n",
    "        \"checkpointer\": {{\n",
    "            // A value of null or -1 will save the weights of the model at the end of every epoch\n",
    "            \"keep_most_recent_by_count\": null,\n",
    "        }},\n",
    "        \"grad_norm\": 1.0,\n",
    "        \"learning_rate_scheduler\": {{\n",
    "            \"type\": \"slanted_triangular\",\n",
    "        }},\n",
    "    }},\n",
    "}}\n",
    "\"\"\"\n",
    "# print(declutr_small_config)\n",
    "with open('declutr_small.jsonnet', 'w') as f:\n",
    "    f.write(declutr_small_config)"
   ]
  },
  {
   "cell_type": "code",
   "execution_count": 21,
   "metadata": {
    "id": "ONxNR1BrFarq"
   },
   "outputs": [],
   "source": [
    "overrides = (\n",
    "    f\"{{'train_data_path': 'ar_books.txt', \"\n",
    "    # lower the batch size to be able to train on Colab GPUs\n",
    "    f\"'data_loader.batch_size': 16, \"\n",
    "    # training examples / batch size. Not required, but gives us a more informative progress bar during training\n",
    "    f\"'data_loader.batches_per_epoch': 1024}}\"\n",
    ")"
   ]
  },
  {
   "cell_type": "code",
   "execution_count": 17,
   "metadata": {},
   "outputs": [],
   "source": [
    "import os\n",
    "os.environ[\"ALLENNLP_LOG_LEVEL\"] = \"ERROR\" \n",
    "os.environ[\"TOKENIZERS_PARALLELISM\"] = \"true\""
   ]
  },
  {
   "cell_type": "code",
   "execution_count": 16,
   "metadata": {
    "colab": {
     "base_uri": "https://localhost:8080/"
    },
    "id": "B7-rF5oeGhNL",
    "outputId": "3e372d5e-192a-4fa6-ddff-10deb8ba4f3b"
   },
   "outputs": [
    {
     "name": "stdout",
     "output_type": "stream",
     "text": [
      "2021-08-24 11:35:03.678808: I tensorflow/stream_executor/platform/default/dso_loader.cc:49] Successfully opened dynamic library libcudart.so.11.0\n",
      "setting eval mode\n",
      "evalmode is set to False\n",
      "Some weights of the model checkpoint at arabert-v02 were not used when initializing BertModel: ['cls.predictions.transform.dense.bias', 'cls.predictions.decoder.bias', 'cls.predictions.transform.dense.weight', 'cls.seq_relationship.weight', 'cls.seq_relationship.bias', 'cls.predictions.transform.LayerNorm.weight', 'cls.predictions.bias', 'cls.predictions.decoder.weight', 'cls.predictions.transform.LayerNorm.bias']\n",
      "- This IS expected if you are initializing BertModel from the checkpoint of a model trained on another task or with another architecture (e.g. initializing a BertForSequenceClassification model from a BertForPreTraining model).\n",
      "- This IS NOT expected if you are initializing BertModel from the checkpoint of a model that you expect to be exactly identical (initializing a BertForSequenceClassification model from a BertForSequenceClassification model).\n",
      "Some weights of the model checkpoint at arabert-v02 were not used when initializing BertForMaskedLM: ['cls.seq_relationship.weight', 'cls.seq_relationship.bias']\n",
      "- This IS expected if you are initializing BertForMaskedLM from the checkpoint of a model trained on another task or with another architecture (e.g. initializing a BertForSequenceClassification model from a BertForPreTraining model).\n",
      "- This IS NOT expected if you are initializing BertForMaskedLM from the checkpoint of a model that you expect to be exactly identical (initializing a BertForSequenceClassification model from a BertForSequenceClassification model).\n",
      "  0%|          | 0/1024 [00:00<?, ?it/s]/opt/conda/lib/python3.8/site-packages/allennlp/data/dataset_readers/dataset_reader.py:376: UserWarning: Using multi-process data loading without setting DatasetReader.manual_multiprocess_sharding to True.\n",
      "Did you forget to set this?\n",
      "If you're not handling the multi-process sharding logic within your _read() method, there is probably no benefit to using more than one worker.\n",
      "  warnings.warn(\n",
      "/opt/conda/lib/python3.8/site-packages/allennlp/data/dataset_readers/dataset_reader.py:376: UserWarning: Using multi-process data loading without setting DatasetReader.manual_multiprocess_sharding to True.\n",
      "Did you forget to set this?\n",
      "If you're not handling the multi-process sharding logic within your _read() method, there is probably no benefit to using more than one worker.\n",
      "  warnings.warn(\n",
      "/opt/conda/lib/python3.8/site-packages/allennlp/data/dataset_readers/dataset_reader.py:376: UserWarning: Using multi-process data loading without setting DatasetReader.manual_multiprocess_sharding to True.\n",
      "Did you forget to set this?\n",
      "If you're not handling the multi-process sharding logic within your _read() method, there is probably no benefit to using more than one worker.\n",
      "  warnings.warn(\n",
      "/opt/conda/lib/python3.8/site-packages/allennlp/data/dataset_readers/dataset_reader.py:376: UserWarning: Using multi-process data loading without setting DatasetReader.manual_multiprocess_sharding to True.\n",
      "Did you forget to set this?\n",
      "If you're not handling the multi-process sharding logic within your _read() method, there is probably no benefit to using more than one worker.\n",
      "  warnings.warn(\n",
      "/opt/conda/lib/python3.8/site-packages/allennlp/data/dataset_readers/dataset_reader.py:376: UserWarning: Using multi-process data loading without setting DatasetReader.manual_multiprocess_sharding to True.\n",
      "Did you forget to set this?\n",
      "If you're not handling the multi-process sharding logic within your _read() method, there is probably no benefit to using more than one worker.\n",
      "  warnings.warn(\n",
      "/opt/conda/lib/python3.8/site-packages/allennlp/data/dataset_readers/dataset_reader.py:376: UserWarning: Using multi-process data loading without setting DatasetReader.manual_multiprocess_sharding to True.\n",
      "Did you forget to set this?\n",
      "If you're not handling the multi-process sharding logic within your _read() method, there is probably no benefit to using more than one worker.\n",
      "  warnings.warn(\n",
      "/opt/conda/lib/python3.8/site-packages/allennlp/data/dataset_readers/dataset_reader.py:376: UserWarning: Using multi-process data loading without setting DatasetReader.manual_multiprocess_sharding to True.\n",
      "Did you forget to set this?\n",
      "If you're not handling the multi-process sharding logic within your _read() method, there is probably no benefit to using more than one worker.\n",
      "  warnings.warn(\n",
      "/opt/conda/lib/python3.8/site-packages/allennlp/data/dataset_readers/dataset_reader.py:376: UserWarning: Using multi-process data loading without setting DatasetReader.manual_multiprocess_sharding to True.\n",
      "Did you forget to set this?\n",
      "If you're not handling the multi-process sharding logic within your _read() method, there is probably no benefit to using more than one worker.\n",
      "  warnings.warn(\n",
      "^C\n",
      "  0%|          | 0/1024 [00:32<?, ?it/s]\n",
      "Traceback (most recent call last):\n",
      "  File \"/opt/conda/bin/allennlp\", line 8, in <module>\n",
      "    sys.exit(run())\n",
      "  File \"/opt/conda/lib/python3.8/site-packages/allennlp/__main__.py\", line 34, in run\n",
      "    main(prog=\"allennlp\")\n",
      "  File \"/opt/conda/lib/python3.8/site-packages/allennlp/commands/__init__.py\", line 121, in main\n",
      "    args.func(args)\n",
      "  File \"/opt/conda/lib/python3.8/site-packages/allennlp/commands/train.py\", line 111, in train_model_from_args\n",
      "    train_model_from_file(\n",
      "  File \"/opt/conda/lib/python3.8/site-packages/allennlp/commands/train.py\", line 171, in train_model_from_file\n",
      "    return train_model(\n",
      "  File \"/opt/conda/lib/python3.8/site-packages/allennlp/commands/train.py\", line 240, in train_model\n",
      "    model = _train_worker(\n",
      "  File \"/opt/conda/lib/python3.8/site-packages/allennlp/commands/train.py\", line 470, in _train_worker\n",
      "    metrics = train_loop.run()\n",
      "  File \"/opt/conda/lib/python3.8/site-packages/allennlp/commands/train.py\", line 543, in run\n",
      "    return self.trainer.train()\n",
      "  File \"/opt/conda/lib/python3.8/site-packages/allennlp/training/gradient_descent_trainer.py\", line 720, in train\n",
      "    metrics, epoch = self._try_train()\n",
      "  File \"/opt/conda/lib/python3.8/site-packages/allennlp/training/gradient_descent_trainer.py\", line 741, in _try_train\n",
      "    train_metrics = self._train_epoch(epoch)\n",
      "  File \"/opt/conda/lib/python3.8/site-packages/allennlp/training/gradient_descent_trainer.py\", line 422, in _train_epoch\n",
      "    for batch_group in batch_group_generator_tqdm:\n",
      "  File \"/opt/conda/lib/python3.8/site-packages/tqdm/std.py\", line 1185, in __iter__\n",
      "    for obj in iterable:\n",
      "  File \"/opt/conda/lib/python3.8/site-packages/allennlp/common/util.py\", line 140, in lazy_groups_of\n",
      "    s = list(islice(iterator, group_size))\n",
      "  File \"/opt/conda/lib/python3.8/site-packages/allennlp/data/data_loaders/multiprocess_data_loader.py\", line 345, in __iter__\n",
      "    yield next(batch_generator)\n",
      "  File \"/opt/conda/lib/python3.8/site-packages/allennlp/data/data_loaders/multiprocess_data_loader.py\", line 414, in _iter_batches\n",
      "    for batch, worker_error in iter(queue.get, (None, None)):\n",
      "  File \"/opt/conda/lib/python3.8/multiprocessing/queues.py\", line 97, in get\n",
      "    res = self._recv_bytes()\n",
      "  File \"/opt/conda/lib/python3.8/multiprocessing/connection.py\", line 216, in recv_bytes\n",
      "    buf = self._recv_bytes(maxlength)\n",
      "  File \"/opt/conda/lib/python3.8/multiprocessing/connection.py\", line 414, in _recv_bytes\n",
      "    buf = self._recv(4)\n",
      "  File \"/opt/conda/lib/python3.8/multiprocessing/connection.py\", line 379, in _recv\n",
      "    chunk = read(handle, remaining)\n",
      "KeyboardInterrupt\n"
     ]
    }
   ],
   "source": [
    "!allennlp train \"declutr_small.jsonnet\" \\\n",
    "    --serialization-dir \"output\" \\\n",
    "    --include-package \"declutr\" \\\n",
    "    -f\n",
    "#     --overrides \"$overrides\" \\"
   ]
  },
  {
   "cell_type": "code",
   "execution_count": null,
   "metadata": {
    "colab": {
     "base_uri": "https://localhost:8080/"
    },
    "id": "FzMhem1Gwahe",
    "outputId": "1a1ba722-7578-4fab-8cec-3ed1cf4943ee"
   },
   "outputs": [
    {
     "name": "stdout",
     "output_type": "stream",
     "text": [
      "--2021-06-03 14:09:16--  https://raw.githubusercontent.com/JohnGiorgi/DeCLUTR/master/scripts/save_pretrained_hf.py\n",
      "Resolving raw.githubusercontent.com (raw.githubusercontent.com)... 185.199.108.133, 185.199.109.133, 185.199.110.133, ...\n",
      "Connecting to raw.githubusercontent.com (raw.githubusercontent.com)|185.199.108.133|:443... connected.\n",
      "HTTP request sent, awaiting response... 200 OK\n",
      "Length: 1878 (1.8K) [text/plain]\n",
      "Saving to: ‘save_pretrained_hf.py’\n",
      "\n",
      "save_pretrained_hf. 100%[===================>]   1.83K  --.-KB/s    in 0s      \n",
      "\n",
      "2021-06-03 14:09:16 (43.1 MB/s) - ‘save_pretrained_hf.py’ saved [1878/1878]\n",
      "\n"
     ]
    }
   ],
   "source": [
    "!wget -nc https://raw.githubusercontent.com/JohnGiorgi/DeCLUTR/master/scripts/save_pretrained_hf.py"
   ]
  },
  {
   "cell_type": "code",
   "execution_count": null,
   "metadata": {
    "colab": {
     "base_uri": "https://localhost:8080/"
    },
    "id": "QnaDJWhdwffu",
    "outputId": "fd0fab99-5557-41d9-9682-311c97ed467c"
   },
   "outputs": [
    {
     "name": "stdout",
     "output_type": "stream",
     "text": [
      "2021-06-03 14:09:21.850964: I tensorflow/stream_executor/platform/default/dso_loader.cc:53] Successfully opened dynamic library libcudart.so.11.0\n",
      "Some weights of the model checkpoint at aubmindlab/bert-base-arabertv02 were not used when initializing BertForMaskedLM: ['cls.seq_relationship.weight', 'cls.seq_relationship.bias']\n",
      "- This IS expected if you are initializing BertForMaskedLM from the checkpoint of a model trained on another task or with another architecture (e.g. initializing a BertForSequenceClassification model from a BertForPreTraining model).\n",
      "- This IS NOT expected if you are initializing BertForMaskedLM from the checkpoint of a model that you expect to be exactly identical (initializing a BertForSequenceClassification model from a BertForSequenceClassification model).\n",
      "\u001b[1m💾 🤗 Transformers compatible model saved to: declutr_transformer. See https://huggingface.co/transformers/model_sharing.html for instructions on hosting the model with 🤗 Transformers.\u001b[0m\n"
     ]
    }
   ],
   "source": [
    "!python save_pretrained_hf.py /content/output/model.tar.gz declutr_transformer"
   ]
  },
  {
   "cell_type": "code",
   "execution_count": null,
   "metadata": {
    "colab": {
     "base_uri": "https://localhost:8080/"
    },
    "id": "-Wvg_dV-43nZ",
    "outputId": "d30f58b3-52bf-42e7-ff05-865bbb9c88ec"
   },
   "outputs": [
    {
     "name": "stdout",
     "output_type": "stream",
     "text": [
      "Wed Aug  4 11:19:13 2021       \n",
      "+-----------------------------------------------------------------------------+\n",
      "| NVIDIA-SMI 470.42.01    Driver Version: 460.32.03    CUDA Version: 11.2     |\n",
      "|-------------------------------+----------------------+----------------------+\n",
      "| GPU  Name        Persistence-M| Bus-Id        Disp.A | Volatile Uncorr. ECC |\n",
      "| Fan  Temp  Perf  Pwr:Usage/Cap|         Memory-Usage | GPU-Util  Compute M. |\n",
      "|                               |                      |               MIG M. |\n",
      "|===============================+======================+======================|\n",
      "|   0  Tesla T4            Off  | 00000000:00:04.0 Off |                    0 |\n",
      "| N/A   35C    P8     9W /  70W |      0MiB / 15109MiB |      0%      Default |\n",
      "|                               |                      |                  N/A |\n",
      "+-------------------------------+----------------------+----------------------+\n",
      "                                                                               \n",
      "+-----------------------------------------------------------------------------+\n",
      "| Processes:                                                                  |\n",
      "|  GPU   GI   CI        PID   Type   Process name                  GPU Memory |\n",
      "|        ID   ID                                                   Usage      |\n",
      "|=============================================================================|\n",
      "|  No running processes found                                                 |\n",
      "+-----------------------------------------------------------------------------+\n"
     ]
    }
   ],
   "source": [
    "!nvidia-smi"
   ]
  },
  {
   "cell_type": "code",
   "execution_count": 3,
   "metadata": {
    "colab": {
     "base_uri": "https://localhost:8080/"
    },
    "id": "4Lgj1rWb6gHr",
    "outputId": "f5e9fd48-352e-4a6e-f020-1c1c5550623d"
   },
   "outputs": [
    {
     "name": "stdout",
     "output_type": "stream",
     "text": [
      "1\n"
     ]
    }
   ],
   "source": [
    "class A:\n",
    "    def __init__(self, a):\n",
    "        self.a = a\n",
    "        \n",
    "class B(A):\n",
    "    def __init__(self, a, b):\n",
    "        super().__init__(a)\n",
    "        self.b = b\n",
    "        \n",
    "        print(self.a)\n",
    "        \n",
    "\n",
    "b = B('1', '2')\n",
    "        "
   ]
  }
 ],
 "metadata": {
  "accelerator": "GPU",
  "colab": {
   "collapsed_sections": [],
   "name": "declutr",
   "provenance": []
  },
  "kernelspec": {
   "display_name": "Python 3 (ipykernel)",
   "language": "python",
   "name": "python3"
  },
  "language_info": {
   "codemirror_mode": {
    "name": "ipython",
    "version": 3
   },
   "file_extension": ".py",
   "mimetype": "text/x-python",
   "name": "python",
   "nbconvert_exporter": "python",
   "pygments_lexer": "ipython3",
   "version": "3.8.8"
  }
 },
 "nbformat": 4,
 "nbformat_minor": 4
}
